{
 "cells": [
  {
   "cell_type": "code",
   "execution_count": null,
   "id": "438d9e50",
   "metadata": {},
   "outputs": [],
   "source": [
    "!pip install selenium\n"
   ]
  },
  {
   "cell_type": "code",
   "execution_count": null,
   "id": "7d20382c",
   "metadata": {},
   "outputs": [],
   "source": [
    "from bs4 import BeautifulSoup\n",
    "\n",
    "import requests\n",
    "import pandas as pd\n",
    "import os\n",
    "import requests\n",
    "import gspread\n",
    "from oauth2client.service_account import ServiceAccountCredentials\n",
    "\n",
    "import time\n",
    "import json\n",
    "\n",
    "scope = ['https://spreadsheets.google.com/feeds',\n",
    "         'https://www.googleapis.com/auth/drive']\n",
    "\n",
    "credentials = ServiceAccountCredentials.from_json_keyfile_name(\n",
    "         'rkg-gsheet-7ec9124df833.json', scope) # Your json file here\n",
    "\n",
    "gc = gspread.authorize(credentials)\n",
    "\n",
    "wks = gc.open(\"Linkedin Campaigns\")"
   ]
  },
  {
   "cell_type": "code",
   "execution_count": null,
   "id": "1597acf2",
   "metadata": {},
   "outputs": [],
   "source": [
    "from selenium import webdriver\n",
    "from selenium.webdriver import Keys \n",
    "from selenium.webdriver.common.by import By\n",
    "\n",
    "driver = webdriver.Chrome('/Users/username/bin/chromedriver')"
   ]
  },
  {
   "cell_type": "code",
   "execution_count": null,
   "id": "f11b34d7",
   "metadata": {},
   "outputs": [],
   "source": [
    "!pip3 install webdriver-manager\n"
   ]
  },
  {
   "cell_type": "code",
   "execution_count": null,
   "id": "6ced03fc",
   "metadata": {},
   "outputs": [],
   "source": [
    "from selenium import webdriver\n",
    "from selenium.webdriver.chrome.service import Service\n",
    "from webdriver_manager.chrome import ChromeDriverManager"
   ]
  },
  {
   "cell_type": "code",
   "execution_count": null,
   "id": "46efabae",
   "metadata": {},
   "outputs": [],
   "source": [
    "from selenium.webdriver import Keys "
   ]
  },
  {
   "cell_type": "code",
   "execution_count": null,
   "id": "7859aec6",
   "metadata": {},
   "outputs": [],
   "source": [
    "import os\n",
    "import requests\n",
    "import gspread\n",
    "from oauth2client.service_account import ServiceAccountCredentials\n",
    "\n",
    "import time\n",
    "import json\n",
    "\n",
    "scope = ['https://spreadsheets.google.com/feeds',\n",
    "         'https://www.googleapis.com/auth/drive']\n",
    "\n",
    "credentials = ServiceAccountCredentials.from_json_keyfile_name(\n",
    "         'rkg-gsheet-7ec9124df833.json', scope) # Your json file here\n",
    "\n",
    "gc = gspread.authorize(credentials)\n",
    "\n",
    "wks = gc.open(\"Linkedin Campaigns\")"
   ]
  },
  {
   "cell_type": "code",
   "execution_count": null,
   "id": "96b7b991",
   "metadata": {
    "scrolled": true
   },
   "outputs": [],
   "source": [
    "driver = webdriver.Chrome('/Users/username/bin/chromedriver')"
   ]
  },
  {
   "cell_type": "code",
   "execution_count": null,
   "id": "b4940d4c",
   "metadata": {},
   "outputs": [],
   "source": [
    "driver.get('https://www.sebi.gov.in/sebiweb/other/OtherAction.do?doRecognisedFpi=yes&intmId=13')"
   ]
  },
  {
   "cell_type": "code",
   "execution_count": null,
   "id": "b14e2fbb",
   "metadata": {},
   "outputs": [],
   "source": [
    "df1 = pd.DataFrame({'title':['abc'],'value':['bcd']})\n",
    "df_l = pd.DataFrame() "
   ]
  },
  {
   "cell_type": "code",
   "execution_count": null,
   "id": "1fbfa0b4",
   "metadata": {
    "scrolled": true
   },
   "outputs": [],
   "source": [
    "html_text = driver.page_source\n",
    "\n",
    "soup = BeautifulSoup(html_text, 'lxml')\n",
    "data = soup.find_all('div',class_ = 'card-view')\n",
    "\n",
    "for div in data:\n",
    "    title = div.find('div',class_ = 'title')\n",
    "    df1['title'] = title.span.text\n",
    "    value = div.find('div',class_ = 'value')\n",
    "    df1['value'] = value.span.text\n",
    "    df_l = df_l.append(df1)\n",
    "    "
   ]
  },
  {
   "cell_type": "code",
   "execution_count": null,
   "id": "4d0f5bc2",
   "metadata": {},
   "outputs": [],
   "source": [
    "df_l"
   ]
  },
  {
   "cell_type": "code",
   "execution_count": null,
   "id": "dcedbcb0",
   "metadata": {},
   "outputs": [],
   "source": [
    "next_p = driver.find_element(By.XPATH,\"//*[@title='Next']\")"
   ]
  },
  {
   "cell_type": "code",
   "execution_count": null,
   "id": "65271c97",
   "metadata": {},
   "outputs": [],
   "source": [
    "next_p.click()"
   ]
  },
  {
   "cell_type": "code",
   "execution_count": null,
   "id": "5a1bfe9d",
   "metadata": {},
   "outputs": [],
   "source": [
    "for i in range(0,50):\n",
    "    next_p.click()\n",
    "    time.sleep(3)\n",
    "    html_text = driver.page_source\n",
    "\n",
    "    soup = BeautifulSoup(html_text, 'lxml')\n",
    "    data = soup.find_all('div',class_ = 'card-view')\n",
    "\n",
    "    for div in data:\n",
    "        title = div.find('div',class_ = 'title')\n",
    "        df1['title'] = title.span.text\n",
    "        value = div.find('div',class_ = 'value')\n",
    "        df1['value'] = value.span.text\n",
    "        df_l = df_l.append(df1)\n",
    "    next_p = driver.find_element(By.XPATH,\"//*[@title='Next']\")"
   ]
  },
  {
   "cell_type": "code",
   "execution_count": null,
   "id": "44d061c4",
   "metadata": {},
   "outputs": [],
   "source": [
    "df_l= df_l.reset_index(drop = True)\n",
    "df_l"
   ]
  },
  {
   "cell_type": "code",
   "execution_count": null,
   "id": "8578cd08",
   "metadata": {},
   "outputs": [],
   "source": [
    "df_l.pivot( columns='title', values='value')"
   ]
  },
  {
   "cell_type": "code",
   "execution_count": null,
   "id": "6b63bd66",
   "metadata": {},
   "outputs": [],
   "source": [
    "a = 0\n",
    "for i in range(1,len(df_l)):\n",
    "    if (df_l['title'][i]==\"Name\"):\n",
    "        a = a+1\n",
    "    df_l['index'][i] = a"
   ]
  },
  {
   "cell_type": "code",
   "execution_count": null,
   "id": "e2e5d122",
   "metadata": {},
   "outputs": [],
   "source": [
    "df2 = df_l.pivot(index = 'index', columns = 'title', values = 'value')\n",
    "\n",
    "df2"
   ]
  }
 ],
 "metadata": {
  "kernelspec": {
   "display_name": "Python 3 (ipykernel)",
   "language": "python",
   "name": "python3"
  },
  "language_info": {
   "codemirror_mode": {
    "name": "ipython",
    "version": 3
   },
   "file_extension": ".py",
   "mimetype": "text/x-python",
   "name": "python",
   "nbconvert_exporter": "python",
   "pygments_lexer": "ipython3",
   "version": "3.9.12"
  }
 },
 "nbformat": 4,
 "nbformat_minor": 5
}
